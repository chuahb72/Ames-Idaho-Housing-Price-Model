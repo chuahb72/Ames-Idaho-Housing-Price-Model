{
 "cells": [
  {
   "cell_type": "markdown",
   "metadata": {},
   "source": [
    "# <font color='green'>Import modules</font>"
   ]
  },
  {
   "cell_type": "code",
   "execution_count": 1,
   "metadata": {},
   "outputs": [],
   "source": [
    "import pandas as pd"
   ]
  },
  {
   "cell_type": "code",
   "execution_count": 2,
   "metadata": {},
   "outputs": [],
   "source": [
    "# Configure Pandas to show all columns\n",
    "pd.set_option(\"display.max.columns\", None)"
   ]
  },
  {
   "cell_type": "markdown",
   "metadata": {},
   "source": [
    "# <font color='green'>Read Train and Test datasets</font>"
   ]
  },
  {
   "cell_type": "code",
   "execution_count": 3,
   "metadata": {},
   "outputs": [],
   "source": [
    "# read train and test datasets\n",
    "train_set = pd.read_csv(\"../datasets/Output Data/train_noNullnoOutAllNum.csv\")\n",
    "test_set = pd.read_csv(\"../datasets/Output Data/test_noNullnoOutAllNum.csv\")"
   ]
  },
  {
   "cell_type": "markdown",
   "metadata": {},
   "source": [
    "## <font color='red'>A summary table of cleaning history is available [here](#Summary-of-data-handling)</font>"
   ]
  },
  {
   "cell_type": "markdown",
   "metadata": {},
   "source": [
    "# <font color='green'>Preprocessing</font>"
   ]
  },
  {
   "cell_type": "markdown",
   "metadata": {},
   "source": [
    "<font color='green'>condition_1: Proximity to various conditions<br>\n",
    "condition_2: Proximity to various conditions (if more than one is present)<br>\n",
    "It make sense to combine these 2 columns</font>"
   ]
  },
  {
   "cell_type": "code",
   "execution_count": 4,
   "metadata": {},
   "outputs": [],
   "source": [
    "train_set['condition_Artery'] = train_set['condition_1_Artery'] + train_set['condition_2_Artery']\n",
    "train_set['condition_Artery'] = train_set['condition_Artery'].map(lambda cell: 1 if cell>=1 else 0)\n",
    "\n",
    "train_set.drop(['condition_1_Artery', 'condition_2_Artery'], axis=1, inplace=True)"
   ]
  },
  {
   "cell_type": "code",
   "execution_count": 5,
   "metadata": {},
   "outputs": [],
   "source": [
    "test_set['condition_Artery'] = test_set['condition_1_Artery']\n",
    "\n",
    "test_set.drop(['condition_1_Artery'], axis=1, inplace=True)"
   ]
  },
  {
   "cell_type": "code",
   "execution_count": 6,
   "metadata": {},
   "outputs": [],
   "source": [
    "train_set['condition_Feedr'] = train_set['condition_1_Feedr'] + train_set['condition_2_Feedr']\n",
    "train_set['condition_Feedr'] = train_set['condition_Feedr'].map(lambda cell: 1 if cell>=1 else 0)\n",
    "\n",
    "train_set.drop(['condition_1_Feedr', 'condition_2_Feedr'], axis=1, inplace=True)"
   ]
  },
  {
   "cell_type": "code",
   "execution_count": 7,
   "metadata": {},
   "outputs": [],
   "source": [
    "test_set['condition_Feedr'] = test_set['condition_1_Feedr'] + test_set['condition_2_Feedr']\n",
    "test_set['condition_Feedr'] = test_set['condition_Feedr'].map(lambda cell: 1 if cell>=1 else 0)\n",
    "\n",
    "test_set.drop(['condition_1_Feedr', 'condition_2_Feedr'], axis=1, inplace=True)"
   ]
  },
  {
   "cell_type": "code",
   "execution_count": 8,
   "metadata": {},
   "outputs": [],
   "source": [
    "train_set['condition_Norm'] = train_set['condition_1_Norm'] + train_set['condition_2_Norm']\n",
    "train_set['condition_Norm'] = train_set['condition_Norm'].map(lambda cell: 1 if cell>=1 else 0)\n",
    "\n",
    "train_set.drop(['condition_1_Norm', 'condition_2_Norm'], axis=1, inplace=True)"
   ]
  },
  {
   "cell_type": "code",
   "execution_count": 9,
   "metadata": {},
   "outputs": [],
   "source": [
    "test_set['condition_Norm'] = test_set['condition_1_Norm'] + test_set['condition_2_Norm']\n",
    "test_set['condition_Norm'] = test_set['condition_Norm'].map(lambda cell: 1 if cell>=1 else 0)\n",
    "\n",
    "test_set.drop(['condition_1_Norm', 'condition_2_Norm'], axis=1, inplace=True)"
   ]
  },
  {
   "cell_type": "code",
   "execution_count": 10,
   "metadata": {},
   "outputs": [],
   "source": [
    "train_set['condition_RRNn'] = train_set['condition_1_RRNn'] + train_set['condition_2_RRNn']\n",
    "train_set['condition_RRNn'] = train_set['condition_RRNn'].map(lambda cell: 1 if cell>=1 else 0)\n",
    "\n",
    "train_set.drop(['condition_1_RRNn', 'condition_2_RRNn'], axis=1, inplace=True)"
   ]
  },
  {
   "cell_type": "code",
   "execution_count": 11,
   "metadata": {},
   "outputs": [],
   "source": [
    "test_set['condition_RRNn'] = test_set['condition_1_RRNn']\n",
    "\n",
    "test_set.drop(['condition_1_RRNn'], axis=1, inplace=True)"
   ]
  },
  {
   "cell_type": "code",
   "execution_count": 12,
   "metadata": {},
   "outputs": [],
   "source": [
    "train_set['condition_RRAn'] = train_set['condition_1_RRAn'] + train_set['condition_2_RRAn']\n",
    "train_set['condition_RRAn'] = train_set['condition_RRAn'].map(lambda cell: 1 if cell>=1 else 0)\n",
    "\n",
    "train_set.drop(['condition_1_RRAn', 'condition_2_RRAn'], axis=1, inplace=True)"
   ]
  },
  {
   "cell_type": "code",
   "execution_count": 13,
   "metadata": {},
   "outputs": [],
   "source": [
    "test_set['condition_RRAn'] = test_set['condition_1_RRAn']\n",
    "\n",
    "test_set.drop(['condition_1_RRAn'], axis=1, inplace=True)"
   ]
  },
  {
   "cell_type": "code",
   "execution_count": 14,
   "metadata": {},
   "outputs": [],
   "source": [
    "train_set['condition_PosN'] = train_set['condition_1_PosN'] + train_set['condition_2_PosN']\n",
    "train_set['condition_PosN'] = train_set['condition_PosN'].map(lambda cell: 1 if cell>=1 else 0)\n",
    "\n",
    "train_set.drop(['condition_1_PosN', 'condition_2_PosN'], axis=1, inplace=True)"
   ]
  },
  {
   "cell_type": "code",
   "execution_count": 15,
   "metadata": {},
   "outputs": [],
   "source": [
    "test_set['condition_PosN'] = test_set['condition_1_PosN'] + test_set['condition_2_PosN']\n",
    "test_set['condition_PosN'] = test_set['condition_PosN'].map(lambda cell: 1 if cell>=1 else 0)\n",
    "\n",
    "test_set.drop(['condition_1_PosN', 'condition_2_PosN'], axis=1, inplace=True)"
   ]
  },
  {
   "cell_type": "code",
   "execution_count": 16,
   "metadata": {},
   "outputs": [],
   "source": [
    "train_set['condition_PosA'] = train_set['condition_1_PosA'] + train_set['condition_2_PosA']\n",
    "train_set['condition_PosA'] = train_set['condition_PosA'].map(lambda cell: 1 if cell>=1 else 0)\n",
    "\n",
    "train_set.drop(['condition_1_PosA', 'condition_2_PosA'], axis=1, inplace=True)"
   ]
  },
  {
   "cell_type": "code",
   "execution_count": 17,
   "metadata": {},
   "outputs": [],
   "source": [
    "test_set['condition_PosA'] = test_set['condition_1_PosA'] + test_set['condition_2_PosA']\n",
    "test_set['condition_PosA'] = test_set['condition_PosA'].map(lambda cell: 1 if cell>=1 else 0)\n",
    "\n",
    "test_set.drop(['condition_1_PosA', 'condition_2_PosA'], axis=1, inplace=True)"
   ]
  },
  {
   "cell_type": "code",
   "execution_count": 18,
   "metadata": {},
   "outputs": [],
   "source": [
    "train_set['condition_RRNe'] = train_set['condition_1_RRNe']\n",
    "\n",
    "train_set.drop(['condition_1_RRNe'], axis=1, inplace=True)"
   ]
  },
  {
   "cell_type": "code",
   "execution_count": 19,
   "metadata": {},
   "outputs": [],
   "source": [
    "test_set['condition_RRNe'] = test_set['condition_1_RRNe']\n",
    "\n",
    "test_set.drop(['condition_1_RRNe'], axis=1, inplace=True)"
   ]
  },
  {
   "cell_type": "code",
   "execution_count": 20,
   "metadata": {},
   "outputs": [],
   "source": [
    "train_set['condition_RRAe'] = train_set['condition_1_RRAe'] + train_set['condition_2_RRAe']\n",
    "train_set['condition_RRAe'] = train_set['condition_RRAe'].map(lambda cell: 1 if cell>=1 else 0)\n",
    "\n",
    "train_set.drop(['condition_1_RRAe', 'condition_2_RRAe'], axis=1, inplace=True)"
   ]
  },
  {
   "cell_type": "code",
   "execution_count": 21,
   "metadata": {},
   "outputs": [],
   "source": [
    "test_set['condition_RRAe'] = test_set['condition_1_RRAe']\n",
    "\n",
    "test_set.drop(['condition_1_RRAe'], axis=1, inplace=True)"
   ]
  },
  {
   "cell_type": "markdown",
   "metadata": {},
   "source": [
    "<font color='green'>exterior_1: Exterior covering on house<br>\n",
    "exterior_2: Exterior covering on house (if more than one material)<br>\n",
    "It make sense to combine these 2 columns</font>"
   ]
  },
  {
   "cell_type": "code",
   "execution_count": 22,
   "metadata": {},
   "outputs": [],
   "source": [
    "train_set['exterior_AsphShn'] = train_set['exterior_1st_AsphShn'] + train_set['exterior_2nd_AsphShn']\n",
    "train_set['exterior_AsphShn'] = train_set['exterior_AsphShn'].map(lambda cell: 1 if cell>=1 else 0)\n",
    "\n",
    "train_set.drop(['exterior_1st_AsphShn', 'exterior_2nd_AsphShn'], axis=1, inplace=True)"
   ]
  },
  {
   "cell_type": "code",
   "execution_count": 23,
   "metadata": {},
   "outputs": [],
   "source": [
    "test_set['exterior_AsphShn'] = test_set['exterior_1st_AsphShn'] + test_set['exterior_2nd_AsphShn']\n",
    "test_set['exterior_AsphShn'] = test_set['exterior_AsphShn'].map(lambda cell: 1 if cell>=1 else 0)\n",
    "\n",
    "test_set.drop(['exterior_1st_AsphShn', 'exterior_2nd_AsphShn'], axis=1, inplace=True)"
   ]
  },
  {
   "cell_type": "code",
   "execution_count": 24,
   "metadata": {},
   "outputs": [],
   "source": [
    "train_set['exterior_AsbShng'] = train_set['exterior_1st_AsbShng'] + train_set['exterior_2nd_AsbShng']\n",
    "train_set['exterior_AsbShng'] = train_set['exterior_1st_AsbShng'].map(lambda cell: 1 if cell>=1 else 0)\n",
    "\n",
    "train_set.drop(['exterior_1st_AsbShng', 'exterior_2nd_AsbShng'], axis=1, inplace=True)"
   ]
  },
  {
   "cell_type": "code",
   "execution_count": 25,
   "metadata": {},
   "outputs": [],
   "source": [
    "test_set['exterior_AsbShng'] = test_set['exterior_1st_AsbShng'] + test_set['exterior_2nd_AsbShng']\n",
    "test_set['exterior_AsbShng'] = test_set['exterior_1st_AsbShng'].map(lambda cell: 1 if cell>=1 else 0)\n",
    "\n",
    "test_set.drop(['exterior_1st_AsbShng', 'exterior_2nd_AsbShng'], axis=1, inplace=True)"
   ]
  },
  {
   "cell_type": "code",
   "execution_count": 26,
   "metadata": {},
   "outputs": [],
   "source": [
    "# exterior_2nd has entry error, resulting in different column name. Modify accordingly\n",
    "\n",
    "train_set['exterior_BrkComm'] = train_set['exterior_1st_BrkComm'] + train_set['exterior_2nd_Brk Cmn']\n",
    "train_set['exterior_BrkComm'] = train_set['exterior_BrkComm'].map(lambda cell: 1 if cell>=1 else 0)\n",
    "\n",
    "train_set.drop(['exterior_1st_BrkComm', 'exterior_2nd_Brk Cmn'], axis=1, inplace=True)"
   ]
  },
  {
   "cell_type": "code",
   "execution_count": 27,
   "metadata": {},
   "outputs": [],
   "source": [
    "# exterior_2nd has entry error, resulting in different column name. Modify accordingly\n",
    "\n",
    "test_set['exterior_BrkComm'] = test_set['exterior_1st_BrkComm'] + test_set['exterior_2nd_Brk Cmn']\n",
    "test_set['exterior_BrkComm'] = test_set['exterior_BrkComm'].map(lambda cell: 1 if cell>=1 else 0)\n",
    "\n",
    "test_set.drop(['exterior_1st_BrkComm', 'exterior_2nd_Brk Cmn'], axis=1, inplace=True)"
   ]
  },
  {
   "cell_type": "code",
   "execution_count": 28,
   "metadata": {},
   "outputs": [],
   "source": [
    "train_set['exterior_BrkFace'] = train_set['exterior_1st_BrkFace'] + train_set['exterior_2nd_BrkFace']\n",
    "train_set['exterior_BrkFace'] = train_set['exterior_BrkFace'].map(lambda cell: 1 if cell>=1 else 0)\n",
    "\n",
    "train_set.drop(['exterior_1st_BrkFace', 'exterior_2nd_BrkFace'], axis=1, inplace=True)"
   ]
  },
  {
   "cell_type": "code",
   "execution_count": 29,
   "metadata": {},
   "outputs": [],
   "source": [
    "test_set['exterior_BrkFace'] = test_set['exterior_1st_BrkFace'] + test_set['exterior_2nd_BrkFace']\n",
    "test_set['exterior_BrkFace'] = test_set['exterior_BrkFace'].map(lambda cell: 1 if cell>=1 else 0)\n",
    "\n",
    "test_set.drop(['exterior_1st_BrkFace', 'exterior_2nd_BrkFace'], axis=1, inplace=True)"
   ]
  },
  {
   "cell_type": "code",
   "execution_count": 30,
   "metadata": {},
   "outputs": [],
   "source": [
    "train_set['exterior_CBlock'] = train_set['exterior_1st_CBlock'] + train_set['exterior_2nd_CBlock']\n",
    "train_set['exterior_CBlock'] = train_set['exterior_CBlock'].map(lambda cell: 1 if cell>=1 else 0)\n",
    "\n",
    "train_set.drop(['exterior_1st_CBlock', 'exterior_2nd_CBlock'], axis=1, inplace=True)"
   ]
  },
  {
   "cell_type": "code",
   "execution_count": 31,
   "metadata": {},
   "outputs": [],
   "source": [
    "test_set['exterior_CBlock'] = test_set['exterior_2nd_CBlock']\n",
    "\n",
    "test_set.drop(['exterior_2nd_CBlock'], axis=1, inplace=True)"
   ]
  },
  {
   "cell_type": "code",
   "execution_count": 32,
   "metadata": {},
   "outputs": [],
   "source": [
    "# exterior_2nd has entry error, resulting in different column name. Modify accordingly\n",
    "\n",
    "train_set['exterior_CemntBd'] = train_set['exterior_1st_CemntBd'] + train_set['exterior_2nd_CmentBd']\n",
    "train_set['exterior_CemntBd'] = train_set['exterior_CemntBd'].map(lambda cell: 1 if cell>=1 else 0)\n",
    "\n",
    "train_set.drop(['exterior_1st_CemntBd', 'exterior_2nd_CmentBd'], axis=1, inplace=True)"
   ]
  },
  {
   "cell_type": "code",
   "execution_count": 33,
   "metadata": {},
   "outputs": [],
   "source": [
    "# exterior_2nd has entry error, resulting in different column name. Modify accordingly\n",
    "\n",
    "test_set['exterior_CemntBd'] = test_set['exterior_1st_CemntBd'] + test_set['exterior_2nd_CmentBd']\n",
    "test_set['exterior_CemntBd'] = test_set['exterior_CemntBd'].map(lambda cell: 1 if cell>=1 else 0)\n",
    "\n",
    "test_set.drop(['exterior_1st_CemntBd', 'exterior_2nd_CmentBd'], axis=1, inplace=True)"
   ]
  },
  {
   "cell_type": "code",
   "execution_count": 34,
   "metadata": {},
   "outputs": [],
   "source": [
    "train_set['exterior_HdBoard'] = train_set['exterior_1st_HdBoard'] + train_set['exterior_2nd_HdBoard']\n",
    "train_set['exterior_HdBoard'] = train_set['exterior_HdBoard'].map(lambda cell: 1 if cell>=1 else 0)\n",
    "\n",
    "train_set.drop(['exterior_1st_HdBoard', 'exterior_2nd_HdBoard'], axis=1, inplace=True)"
   ]
  },
  {
   "cell_type": "code",
   "execution_count": 35,
   "metadata": {},
   "outputs": [],
   "source": [
    "test_set['exterior_HdBoard'] = test_set['exterior_1st_HdBoard'] + test_set['exterior_2nd_HdBoard']\n",
    "test_set['exterior_HdBoard'] = test_set['exterior_HdBoard'].map(lambda cell: 1 if cell>=1 else 0)\n",
    "\n",
    "test_set.drop(['exterior_1st_HdBoard', 'exterior_2nd_HdBoard'], axis=1, inplace=True)"
   ]
  },
  {
   "cell_type": "code",
   "execution_count": 36,
   "metadata": {},
   "outputs": [],
   "source": [
    "train_set['exterior_ImStucc'] = train_set['exterior_1st_ImStucc'] + train_set['exterior_2nd_ImStucc']\n",
    "train_set['exterior_ImStucc'] = train_set['exterior_ImStucc'].map(lambda cell: 1 if cell>=1 else 0)\n",
    "\n",
    "train_set.drop(['exterior_1st_ImStucc', 'exterior_2nd_ImStucc'], axis=1, inplace=True)"
   ]
  },
  {
   "cell_type": "code",
   "execution_count": 37,
   "metadata": {},
   "outputs": [],
   "source": [
    "test_set['exterior_ImStucc'] = test_set['exterior_2nd_ImStucc']\n",
    "\n",
    "test_set.drop(['exterior_2nd_ImStucc'], axis=1, inplace=True)"
   ]
  },
  {
   "cell_type": "code",
   "execution_count": 38,
   "metadata": {},
   "outputs": [],
   "source": [
    "train_set['exterior_MetalSd'] = train_set['exterior_1st_MetalSd'] + train_set['exterior_2nd_MetalSd']\n",
    "train_set['exterior_MetalSd'] = train_set['exterior_MetalSd'].map(lambda cell: 1 if cell>=1 else 0)\n",
    "\n",
    "train_set.drop(['exterior_1st_MetalSd', 'exterior_2nd_MetalSd'], axis=1, inplace=True)"
   ]
  },
  {
   "cell_type": "code",
   "execution_count": 39,
   "metadata": {},
   "outputs": [],
   "source": [
    "test_set['exterior_MetalSd'] = test_set['exterior_1st_MetalSd'] + test_set['exterior_2nd_MetalSd']\n",
    "test_set['exterior_MetalSd'] = test_set['exterior_MetalSd'].map(lambda cell: 1 if cell>=1 else 0)\n",
    "\n",
    "test_set.drop(['exterior_1st_MetalSd', 'exterior_2nd_MetalSd'], axis=1, inplace=True)"
   ]
  },
  {
   "cell_type": "code",
   "execution_count": 40,
   "metadata": {},
   "outputs": [],
   "source": [
    "# Other don't exist in train set\n",
    "train_set['exterior_Other'] = 0\n",
    "train_set['exterior_Other'] = train_set['exterior_Other'].map(lambda cell: 0)"
   ]
  },
  {
   "cell_type": "code",
   "execution_count": 41,
   "metadata": {},
   "outputs": [],
   "source": [
    "test_set['exterior_Other'] = test_set['exterior_2nd_Other']\n",
    "\n",
    "test_set.drop(['exterior_2nd_Other'], axis=1, inplace=True)"
   ]
  },
  {
   "cell_type": "code",
   "execution_count": 42,
   "metadata": {},
   "outputs": [],
   "source": [
    "train_set['exterior_Plywood'] = train_set['exterior_1st_Plywood'] + train_set['exterior_2nd_Plywood']\n",
    "train_set['exterior_Plywood'] = train_set['exterior_Plywood'].map(lambda cell: 1 if cell>=1 else 0)\n",
    "\n",
    "train_set.drop(['exterior_1st_Plywood', 'exterior_2nd_Plywood'], axis=1, inplace=True)"
   ]
  },
  {
   "cell_type": "code",
   "execution_count": 43,
   "metadata": {},
   "outputs": [],
   "source": [
    "test_set['exterior_Plywood'] = test_set['exterior_1st_Plywood'] + test_set['exterior_2nd_Plywood']\n",
    "test_set['exterior_Plywood'] = test_set['exterior_Plywood'].map(lambda cell: 1 if cell>=1 else 0)\n",
    "\n",
    "test_set.drop(['exterior_1st_Plywood', 'exterior_2nd_Plywood'], axis=1, inplace=True)"
   ]
  },
  {
   "cell_type": "code",
   "execution_count": 44,
   "metadata": {},
   "outputs": [],
   "source": [
    "# PreCast don't exist in train set\n",
    "train_set['exterior_PreCast'] = 0\n",
    "train_set['exterior_PreCast'] = train_set['exterior_PreCast'].map(lambda cell: 0)"
   ]
  },
  {
   "cell_type": "code",
   "execution_count": 45,
   "metadata": {},
   "outputs": [],
   "source": [
    "test_set['exterior_PreCast'] = test_set['exterior_1st_PreCast'] + test_set['exterior_2nd_PreCast']\n",
    "test_set['exterior_PreCast'] = test_set['exterior_PreCast'].map(lambda cell: 1 if cell>=1 else 0)\n",
    "\n",
    "test_set.drop(['exterior_1st_PreCast', 'exterior_2nd_PreCast'], axis=1, inplace=True)"
   ]
  },
  {
   "cell_type": "code",
   "execution_count": 46,
   "metadata": {},
   "outputs": [],
   "source": [
    "train_set['exterior_Stone'] = train_set['exterior_1st_Stone'] + train_set['exterior_2nd_Stone']\n",
    "train_set['exterior_Stone'] = train_set['exterior_Stone'].map(lambda cell: 1 if cell>=1 else 0)\n",
    "\n",
    "train_set.drop(['exterior_1st_Stone', 'exterior_2nd_Stone'], axis=1, inplace=True)"
   ]
  },
  {
   "cell_type": "code",
   "execution_count": 47,
   "metadata": {},
   "outputs": [],
   "source": [
    "# Stone don't exist in train set\n",
    "test_set['exterior_Stone'] = 0\n",
    "test_set['exterior_Stone'] = test_set['exterior_Stone'].map(lambda cell: 0)"
   ]
  },
  {
   "cell_type": "code",
   "execution_count": 48,
   "metadata": {},
   "outputs": [],
   "source": [
    "train_set['exterior_Stucco'] = train_set['exterior_1st_Stucco'] + train_set['exterior_2nd_Stucco']\n",
    "train_set['exterior_Stucco'] = train_set['exterior_Stucco'].map(lambda cell: 1 if cell>=1 else 0)\n",
    "\n",
    "train_set.drop(['exterior_1st_Stucco', 'exterior_2nd_Stucco'], axis=1, inplace=True)"
   ]
  },
  {
   "cell_type": "code",
   "execution_count": 49,
   "metadata": {},
   "outputs": [],
   "source": [
    "test_set['exterior_Stucco'] = test_set['exterior_1st_Stucco'] + test_set['exterior_2nd_Stucco']\n",
    "test_set['exterior_Stucco'] = test_set['exterior_Stucco'].map(lambda cell: 1 if cell>=1 else 0)\n",
    "\n",
    "test_set.drop(['exterior_1st_Stucco', 'exterior_2nd_Stucco'], axis=1, inplace=True)"
   ]
  },
  {
   "cell_type": "code",
   "execution_count": 50,
   "metadata": {},
   "outputs": [],
   "source": [
    "train_set['exterior_VinylSd'] = train_set['exterior_1st_VinylSd'] + train_set['exterior_2nd_VinylSd']\n",
    "train_set['exterior_VinylSd'] = train_set['exterior_VinylSd'].map(lambda cell: 1 if cell>=1 else 0)\n",
    "\n",
    "train_set.drop(['exterior_1st_VinylSd', 'exterior_2nd_VinylSd'], axis=1, inplace=True)"
   ]
  },
  {
   "cell_type": "code",
   "execution_count": 51,
   "metadata": {},
   "outputs": [],
   "source": [
    "test_set['exterior_VinylSd'] = test_set['exterior_1st_VinylSd'] + test_set['exterior_2nd_VinylSd']\n",
    "test_set['exterior_VinylSd'] = test_set['exterior_VinylSd'].map(lambda cell: 1 if cell>=1 else 0)\n",
    "\n",
    "test_set.drop(['exterior_1st_VinylSd', 'exterior_2nd_VinylSd'], axis=1, inplace=True)"
   ]
  },
  {
   "cell_type": "code",
   "execution_count": 52,
   "metadata": {},
   "outputs": [],
   "source": [
    "# Extra wrong entry for exterior_2nd_Wd Shng, modify accordingly\n",
    "train_set['exterior_Wd_Sdng'] = train_set['exterior_1st_Wd Sdng'] + train_set['exterior_2nd_Wd Sdng'] + train_set['exterior_2nd_Wd Shng']\n",
    "train_set['exterior_Wd_Sdng'] = train_set['exterior_Wd_Sdng'].map(lambda cell: 1 if cell>=1 else 0)\n",
    "\n",
    "train_set.drop(['exterior_1st_Wd Sdng', 'exterior_2nd_Wd Sdng', 'exterior_2nd_Wd Shng'], axis=1, inplace=True)"
   ]
  },
  {
   "cell_type": "code",
   "execution_count": 53,
   "metadata": {},
   "outputs": [],
   "source": [
    "# Extra wrong entry for exterior_2nd_Wd Shng, modify accordingly\n",
    "test_set['exterior_Wd_Sdng'] = test_set['exterior_1st_Wd Sdng'] + test_set['exterior_2nd_Wd Sdng'] + test_set['exterior_2nd_Wd Shng']\n",
    "test_set['exterior_Wd_Sdng'] = test_set['exterior_Wd_Sdng'].map(lambda cell: 1 if cell>=1 else 0)\n",
    "\n",
    "test_set.drop(['exterior_1st_Wd Sdng', 'exterior_2nd_Wd Sdng', 'exterior_2nd_Wd Shng'], axis=1, inplace=True)"
   ]
  },
  {
   "cell_type": "code",
   "execution_count": 54,
   "metadata": {},
   "outputs": [],
   "source": [
    "train_set['exterior_WdShing'] = train_set['exterior_1st_WdShing']\n",
    "\n",
    "train_set.drop(['exterior_1st_WdShing'], axis=1, inplace=True)"
   ]
  },
  {
   "cell_type": "code",
   "execution_count": 55,
   "metadata": {},
   "outputs": [],
   "source": [
    "test_set['exterior_WdShing'] = test_set['exterior_1st_WdShing']\n",
    "\n",
    "test_set.drop(['exterior_1st_WdShing'], axis=1, inplace=True)"
   ]
  },
  {
   "cell_type": "markdown",
   "metadata": {},
   "source": [
    "# <font color='green'>Match Columns in Train and Test set</font> "
   ]
  },
  {
   "cell_type": "code",
   "execution_count": 56,
   "metadata": {},
   "outputs": [
    {
     "name": "stdout",
     "output_type": "stream",
     "text": [
      "(2041, 208)\n",
      "(879, 204)\n"
     ]
    }
   ],
   "source": [
    "print(train_set.shape)\n",
    "print(test_set.shape)"
   ]
  },
  {
   "cell_type": "code",
   "execution_count": 57,
   "metadata": {},
   "outputs": [],
   "source": [
    "# Indetify columns that do no exist in both train and test set\n",
    "train_set_col = train_set.columns\n",
    "test_set_col = test_set.columns"
   ]
  },
  {
   "cell_type": "code",
   "execution_count": 58,
   "metadata": {},
   "outputs": [
    {
     "data": {
      "text/plain": [
       "['ms_subclass_150',\n",
       " 'ms_zoning_A (agr)',\n",
       " 'neighborhood_GrnHill',\n",
       " 'neighborhood_Landmrk',\n",
       " 'roof_matl_Membran',\n",
       " 'heating_OthW',\n",
       " 'heating_Wall',\n",
       " 'misc_feature_TenC']"
      ]
     },
     "execution_count": 58,
     "metadata": {},
     "output_type": "execute_result"
    }
   ],
   "source": [
    "train_set_not_in_test = [n for n in train_set_col if n not in test_set_col]\n",
    "train_set_not_in_test.remove(\"saleprice\")\n",
    "train_set_not_in_test"
   ]
  },
  {
   "cell_type": "code",
   "execution_count": 59,
   "metadata": {},
   "outputs": [
    {
     "data": {
      "text/plain": [
       "['roof_matl_Metal',\n",
       " 'roof_matl_Roll',\n",
       " 'mas_vnr_type_CBlock',\n",
       " 'heating_Floor',\n",
       " 'sale_type_VWD']"
      ]
     },
     "execution_count": 59,
     "metadata": {},
     "output_type": "execute_result"
    }
   ],
   "source": [
    "test_set_not_in_train = [n for n in test_set_col if n not in train_set_col]\n",
    "test_set_not_in_train"
   ]
  },
  {
   "cell_type": "code",
   "execution_count": 60,
   "metadata": {},
   "outputs": [],
   "source": [
    "# proceed to remove them before model training\n",
    "\n",
    "for n in train_set_not_in_test:\n",
    "    train_set.drop(n, axis=1, inplace=True)\n",
    "\n",
    "for n in test_set_not_in_train:\n",
    "    test_set.drop(n, axis=1, inplace=True)"
   ]
  },
  {
   "cell_type": "code",
   "execution_count": 61,
   "metadata": {},
   "outputs": [
    {
     "name": "stdout",
     "output_type": "stream",
     "text": [
      "(2041, 200)\n",
      "(879, 199)\n"
     ]
    }
   ],
   "source": [
    "print(train_set.shape)\n",
    "print(test_set.shape)"
   ]
  },
  {
   "cell_type": "markdown",
   "metadata": {},
   "source": [
    "## <font color='green'>Summary of data handling</font>\n",
    "\n",
    "|Column|Type|Description|Distribution|Correlation to Sale Price|Null Handling %|Outlier Handling %%|Feature Handling|\n",
    "|---|---|---|---|---|---|---|---|\n",
    "|Id|int|Property Id|random|None|||exclude from model features|\n",
    "|pid|int|Parcel identification number|con't, nominal|None|||exclude from model features|\n",
    "|ms_subclass|int|Identifies the type of dwelling involved in the sale|nominal|Higher price for newer|||dummified|\n",
    "|ms_zoning|object|Identifies the general zoning classification of the sale|nominal|Higher price for some zones|||dummified|\n",
    "|lot_frontage|float|Linear feet of street connected to property|con't, Normal|+ve|insufficient domain knowledge to conduct null imputation||exclude from model features|\n",
    "|lot_area|int|Lot size in square feet|con't, right skewed|+ve||||\n",
    "|street|object|Type of road access to property|nominal|higher price for paved||2pts>100K sqft KIV|dummified|\n",
    "|alley|object|Type of alley access to property|nominal|higher price for paved|insufficient domain knowledge to conduct null imputation||exclude from model features|\n",
    "|lot_shape|object|General shape of property|ordinal|none|||map to numeric|\n",
    "|land_contour|object|Flatness of the property|nominal|Higher price for some cat|||dummified|\n",
    "|utilities|object|Type of utilities available|ordinal|Higher price for some cat|||map to numeric|\n",
    "|lot_config|object|Lot configuration|nominal|None|||dummified|\n",
    "|land_slope|object|Slope of property|ordinal|None|||map to numeric|\n",
    "|neighborhood|object|Physical locations within Ames city limits|nominal|Higher prices for some cat|||dummified|\n",
    "|condition_1|object|Proximity to various conditions|nominal|Higher prices for some cat|||combined with codition_2 and dummified|\n",
    "|condition_2|object|Proximity to various conditions (if more than one is present)|nominal|Higher prices for some cat|||combined with codition_1 anddummified|\n",
    "|bldg_type|object|Type of dwelling|nominal|Higher prices for some cat|||dummified|\n",
    "|house_style|object|Style of dwelling|nominal|Higher prices for some cat|||dummified|\n",
    "|overall_qual|int|Rates the overall material and finish of the house|discrete, ordinal|+ve||||\n",
    "|overall_cond|int|Rates the overall condition of the house|discrete, ordinal|weak +ve||||\n",
    "|year_built|int|Original construction date|discrete, left skewed|+ve||||\n",
    "|year_remod/add|int|Remodel date (same as construction date if no remodeling or additions)|discrete, left/right skewed|+ve||||\n",
    "|roof_style|object|Type of roof|nominal|Higher prices for some cat|||dummified|\n",
    "|roof_matl|object|Roof material|nominal|Higher prices for some cat|||dummified|\n",
    "|exterior_1st|object|Exterior covering on house|nominal|Higher prices for some cat|||combined with exteriar_2 andd ummified|\n",
    "|exterior_2nd|object|Exterior covering on house (if more than one material)|nominal|Higher prices for some cat|||combined with exteriar_1 andd dummified|\n",
    "|mas_vnr_type|object|Masonry veneer type|nominal|Higher prices for some cat|Null to None||dummified|\n",
    "|mas_vnr_area|float|Masonry veneer area in square feet|con't, many Zeros for none|+ve|Null to 0|||\n",
    "|exter_qual|object|Evaluates the quality of the material on the exterior|ordinal|Higher prices for some cat|||map to numeric|\n",
    "|exter_cond|object|Evaluates the present condition of the material on the exterior|ordinal|Higher prices for some cat|||map to numeric|\n",
    "|foundation|object|Type of foundation|nominal|Higher prices for some cat|||dummified|\n",
    "|bsmt_qual|object|Evaluates the height of the basement|ordinal|Higher prices for some cat|Null to NA||map to numeric|\n",
    "|bsmt_cond|object|Evaluates the general condition of the basement|ordinal|Higher prices for some cat|Null to NA||map to numeric|\n",
    "|bsmt_exposure|object|Refers to walkout or garden level walls|ordinal|Higher prices for some cat|Null to NA||map to numeric|\n",
    "|bsmtfin_type_1|object|Rating of basement finished area|ordinal|Higher prices for some cat|Null to NA||map to numeric|\n",
    "|bsmtfin_sf_1|float, int|Type 1 finished square feet|con't, many Zeros for none|+ve|Null to 0|2pts>12K sqft KIV||\n",
    "|bsmtfin_type_2|object|Rating of basement finished area (if multiple types)|ordinal|Higher prices for some cat|Null to NA||map to numeric|\n",
    "|bsmtfin_sf_2|float, int|Type 2 finished square feet|con't, many Zeros for none|weak +ve|Null to 0|2pts>1200 sqft KIV||\n",
    "|bsmt_unf_sf|float, int|Unfinished square feet of basement area|con't, right skewed|weak +ve|Null to 0|||\n",
    "|total_bsmt_sf|float, int|Total square feet of basement area|con't, normal|+ve|Null to 0|2pts>4K sqft KIV||\n",
    "|heating|object|Type of heating|nominal|Higher prices for some cat|||dummified|\n",
    "|heating_qc|object|Heating quality and condition|ordinal|Higher prices for some cat|||map to numeric|\n",
    "|central_air|object|Central air conditioning|nominal|Higher prices for some cat|||dummified|\n",
    "|electrical|object|Electrical system|ordinal|Higher prices for some cat|delete Null row||map to numeric|\n",
    "|1st_flr_sf|int|First Floor square feet|con't, normal|+ve||2pts>4K sqft KIV||\n",
    "|2nd_flr_sf|int|Second floor square feet|con't, many zeros|+ve||||\n",
    "|low_qual_fin_sf|int|Low quality finished square feet (all floors)|con't, many zeros|weak +ve||||\n",
    "|gr_liv_area|int|Above grade (ground) living area square feet|con't, normal|+ve||2pts>5K sqft KIV||\n",
    "|bsmt_full_bath|float, int|Basement full bathrooms|discrete, ordinal|Higher prices for some cat|Null to 0|||\n",
    "|bsmt_half_bath|float, int|Basement half bathrooms|discrete, ordinal|Higher prices for some cat|Null to 0|||\n",
    "|full_bath|int|Full bathrooms above grade|discrete, ordinal|Higher prices for some cat||||\n",
    "|half_bath|int|Half baths above grade|discrete, ordinal|Higher prices for some cat||||\n",
    "|bedroom_abvgr|int|Bedrooms above grade (does NOT include basement bedrooms)|discrete, ordinal|Higher prices for some cat||||\n",
    "|kitchen_abvgr|int|Kitchens above grade|discrete, ordinal|Higher prices for some cat||||\n",
    "|kitchen_qual|object|Kitchen quality|ordinal|Higher prices for some cat|||map to numeric|\n",
    "|totrms_abvgrd|int|Total rooms above grade (does not include bathrooms)|discrete, ordinal|Higher prices for some cat||||\n",
    "|functional|object|Home functionality (Assume typical unless deductions are warranted)|ordinal|Higher prices for some cat|||map to numeric|\n",
    "|fireplaces|int|Number of fireplaces|discrete, ordinal|Higher prices for some cat||||\n",
    "|fireplace_qu|object|Fireplace quality|ordinal|Higher prices for some cat|Null to NA||map to numeric|\n",
    "|garage_type|object|Garage location|nominal|Higher prices for some cat|Null to NA||dummified|\n",
    "|garage_yr_blt|float|Year garage was built|discrete, ordinal|Higher prices for some cat|Null to 0|delete pt=2207||\n",
    "|garage_finish|object|Interior finish of the garage|ordinal|Higher prices for some cat|Null to NA||map to numeric|\n",
    "|garage_cars|float, int|Size of garage in car capacity|discrete, ordinal|Higher prices for some cat|Null to 0|||\n",
    "|garage_area|float, int|Size of garage in square feet|con't, normal|+ve|Null to 0|||\n",
    "|garage_qual|object|Garage quality|ordinal|Higher prices for some cat|Null to NA||map to numeric|\n",
    "|garage_cond|object|Garage condition|ordinal|Higher prices for some cat|Null to NA||map to numeric|\n",
    "|paved_drive|object|Paved driveway|ordinal|Higher prices for some cat|||map to numeric|\n",
    "|wood_deck_sf|int|Wood deck area in square feet|con't, normal|+ve||1pt>1400 sqft KIV||\n",
    "|open_porch_sf|int|Open porch area in square feet|con't, normal|+ve||||\n",
    "|enclosed_porch|int|Enclosed porch area in square feet|con't, normal|+ve||||\n",
    "|3ssn_porch|int|Three season porch area in square feet|con't, normal|weak +ve||||\n",
    "|screen_porch|int|Screen porch area in square feet|con't, normal|weak +ve||||\n",
    "|pool_area|int|Pool area in square feet|con't, many zeros|weak +ve||||\n",
    "|pool_qc|object|Pool quality|ordinal|Higher prices for some cat|Null to NA||map to numeric|\n",
    "|fence|object|Fence quality|ordinal|Higher prices for some cat|Null to NA||map to numeric|\n",
    "|misc_feature|object|Miscellaneous feature not covered in other categories|nominal|Higher prices for some cat|Null to NA||dummified|\n",
    "|misc_val|int|$Value of miscellaneous feature|con't, many zeros|weak +ve||||\n",
    "|mo_sold|int|Month Sold (MM)|discrete, uniform|||||\n",
    "|yr_sold|int|Year Sold (YYYY)|discrete, uniform|||||\n",
    "|sale_type|object|Type of sale|nominal|Higher prices for some cat|||dummified|\n",
    "|saleprice|int|Sale price $$|con't, normal|||||\n",
    "\n",
    "% Blank indicates no null values<br>\n",
    "%% Blank indicates no outliers values"
   ]
  },
  {
   "cell_type": "markdown",
   "metadata": {},
   "source": [
    "# <font color='green'>Export No Null/No Outliers/All Numerical/Preprocessed datasets</font> "
   ]
  },
  {
   "cell_type": "code",
   "execution_count": 62,
   "metadata": {},
   "outputs": [],
   "source": [
    "# Export partially cleaned train and test sets to data folder\n",
    "train_set.to_csv('../datasets/Output Data/train_Prepro.csv', index=False)\n",
    "test_set.to_csv('../datasets/Output Data/test_Prepro.csv', index=False)"
   ]
  },
  {
   "cell_type": "code",
   "execution_count": null,
   "metadata": {},
   "outputs": [],
   "source": []
  }
 ],
 "metadata": {
  "kernelspec": {
   "display_name": "Python 3",
   "language": "python",
   "name": "python3"
  },
  "language_info": {
   "codemirror_mode": {
    "name": "ipython",
    "version": 3
   },
   "file_extension": ".py",
   "mimetype": "text/x-python",
   "name": "python",
   "nbconvert_exporter": "python",
   "pygments_lexer": "ipython3",
   "version": "3.7.6"
  }
 },
 "nbformat": 4,
 "nbformat_minor": 4
}
